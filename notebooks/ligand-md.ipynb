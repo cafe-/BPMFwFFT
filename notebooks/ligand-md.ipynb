{
 "cells": [
  {
   "cell_type": "code",
   "execution_count": 19,
   "metadata": {
    "collapsed": true
   },
   "outputs": [
    {
     "name": "stdout",
     "output_type": "stream",
     "text": [
      "/home/jim/BPMFwFFT/notebooks\n",
      "[-15.759 -15.489  66.157]\n",
      "NETCDF4\n",
      "2414\n",
      "{'positions': <class 'netCDF4._netCDF4.Variable'>\n",
      "float64 positions(nconfs, natoms, three)\n",
      "unlimited dimensions: \n",
      "current shape = (1, 2414, 3)\n",
      "filling on, default _FillValue of 9.969209968386869e+36 used}\n",
      "positions =\n",
      "[[[-15.75899982 -15.48900032  66.15699768]\n",
      "  [-16.71467209 -15.75489712  65.96702576]\n",
      "  [-15.75056267 -14.54753876  66.52262115]\n",
      "  ...\n",
      "  [  8.45100021  -0.87800002  61.46300125]\n",
      "  [  8.45600033  -0.23899999  62.51399994]\n",
      "  [  9.45411587  -1.51606739  61.15144348]]]\n"
     ]
    }
   ],
   "source": [
    "import MDAnalysis as mda\n",
    "\n",
    "import os\n",
    "import numpy as np\n",
    "import netCDF4 as netcdf\n",
    "\n",
    "import time\n",
    "print(os.getcwd())\n",
    "prmtop = \"/home/jim/BPMFwFFT/examples/amber/3MXW/3MXW_l_b.prmtop\"\n",
    "inpcrd = \"/home/jim/BPMFwFFT/examples/amber/3MXW/3MXW_l_b.inpcrd\"\n",
    "ref = mda.Universe(prmtop, inpcrd)\n",
    "print(ref.coord.positions[0])\n",
    "out_nc = netcdf.Dataset(\"trajectory.nc\", \"w\", format=\"NETCDF4\")\n",
    "print(out_nc.data_model)\n",
    "three = out_nc.createDimension(\"three\", 3)\n",
    "natoms = out_nc.createDimension(\"natoms\", ref.atoms.n_atoms)\n",
    "nconfs = out_nc.createDimension(\"nconfs\", 1)\n",
    "print(ref.atoms.n_atoms)\n",
    "positions = out_nc.createVariable(\"positions\", \"f8\", (\"nconfs\", \"natoms\", \"three\"))\n",
    "print(out_nc.variables)\n",
    "refPositions = ref.coord.positions\n",
    "positions[:,:,:] = refPositions\n",
    "print(\"positions =\\n{}\".format(positions[:,:,:]))\n",
    "out_nc.close()\n",
    "\n"
   ]
  },
  {
   "cell_type": "code",
   "execution_count": 20,
   "outputs": [
    {
     "name": "stdout",
     "output_type": "stream",
     "text": [
      "NETCDF4\n",
      "<class 'netCDF4._netCDF4.Dimension'>: name = 'three', size = 3\n",
      "<class 'netCDF4._netCDF4.Dimension'>: name = 'natoms', size = 12\n",
      "<class 'netCDF4._netCDF4.Dimension'>: name = 'nconfs', size = 1000\n",
      "{'positions': <class 'netCDF4._netCDF4.Variable'>\n",
      "float64 positions(nconfs, natoms, three)\n",
      "unlimited dimensions: \n",
      "current shape = (1000, 12, 3)\n",
      "filling on, default _FillValue of 9.969209968386869e+36 used}\n"
     ]
    }
   ],
   "source": [
    "import MDAnalysis as mda\n",
    "\n",
    "import os\n",
    "import numpy as np\n",
    "import netCDF4 as netcdf\n",
    "\n",
    "et = netcdf.Dataset(\"example_trajectory.nc\", \"r\")\n",
    "print(et.data_model)\n",
    "for dimobj in et.dimensions.values():\n",
    "    print(dimobj)\n",
    "print(et.variables)\n",
    "et.close()\n"
   ],
   "metadata": {
    "collapsed": false,
    "pycharm": {
     "name": "#%%\n"
    }
   }
  }
 ],
 "metadata": {
  "kernelspec": {
   "display_name": "Python 3",
   "language": "python",
   "name": "python3"
  },
  "language_info": {
   "codemirror_mode": {
    "name": "ipython",
    "version": 2
   },
   "file_extension": ".py",
   "mimetype": "text/x-python",
   "name": "python",
   "nbconvert_exporter": "python",
   "pygments_lexer": "ipython2",
   "version": "2.7.6"
  }
 },
 "nbformat": 4,
 "nbformat_minor": 0
}