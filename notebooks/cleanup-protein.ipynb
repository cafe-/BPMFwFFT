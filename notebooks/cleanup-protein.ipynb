{
 "cells": [
  {
   "cell_type": "code",
   "execution_count": 19,
   "metadata": {
    "collapsed": true
   },
   "outputs": [],
   "source": [
    "from simtk.openmm import app\n",
    "import simtk.openmm as mm\n",
    "from simtk import unit\n",
    "from sys import stdout\n",
    "\n",
    "pdb = app.PDBFile('3MXW_l_b_edit.pdb')\n",
    "forcefield = app.ForceField('amber14-all.xml', 'amber14/tip3pfb.xml')"
   ]
  },
  {
   "cell_type": "code",
   "execution_count": 16,
   "outputs": [
    {
     "name": "stdout",
     "output_type": "stream",
     "text": [
      "Minimizing...\n"
     ]
    },
    {
     "name": "stderr",
     "output_type": "stream",
     "text": [
      "Exception ignored in: <function PDBReporter.__del__ at 0x7ff08c01e5f0>\n",
      "Traceback (most recent call last):\n",
      "  File \"/home/jim/anaconda3/envs/BPMFwFFT/lib/python3.7/site-packages/simtk/openmm/app/pdbreporter.py\", line 105, in __del__\n",
      "    if self._topology is not None:\n",
      "AttributeError: 'PDBReporter' object has no attribute '_topology'\n"
     ]
    },
    {
     "ename": "TypeError",
     "evalue": "__init__() missing 1 required positional argument: 'reportInterval'",
     "output_type": "error",
     "traceback": [
      "\u001B[0;31m---------------------------------------------------------------------------\u001B[0m",
      "\u001B[0;31mTypeError\u001B[0m                                 Traceback (most recent call last)",
      "\u001B[0;32m<ipython-input-16-ade66270bf19>\u001B[0m in \u001B[0;36m<module>\u001B[0;34m\u001B[0m\n\u001B[1;32m     20\u001B[0m \u001B[0;34m\u001B[0m\u001B[0m\n\u001B[1;32m     21\u001B[0m \u001B[0msimulation\u001B[0m\u001B[0;34m.\u001B[0m\u001B[0mcontext\u001B[0m\u001B[0;34m.\u001B[0m\u001B[0msetVelocitiesToTemperature\u001B[0m\u001B[0;34m(\u001B[0m\u001B[0;36m300\u001B[0m\u001B[0;34m*\u001B[0m\u001B[0munit\u001B[0m\u001B[0;34m.\u001B[0m\u001B[0mkelvin\u001B[0m\u001B[0;34m)\u001B[0m\u001B[0;34m\u001B[0m\u001B[0;34m\u001B[0m\u001B[0m\n\u001B[0;32m---> 22\u001B[0;31m \u001B[0msimulation\u001B[0m\u001B[0;34m.\u001B[0m\u001B[0mreporters\u001B[0m\u001B[0;34m.\u001B[0m\u001B[0mappend\u001B[0m\u001B[0;34m(\u001B[0m\u001B[0mapp\u001B[0m\u001B[0;34m.\u001B[0m\u001B[0mPDBReporter\u001B[0m\u001B[0;34m(\u001B[0m\u001B[0;34m'3MXW_l_b_min.pdb'\u001B[0m\u001B[0;34m)\u001B[0m\u001B[0;34m)\u001B[0m\u001B[0;34m\u001B[0m\u001B[0;34m\u001B[0m\u001B[0m\n\u001B[0m",
      "\u001B[0;31mTypeError\u001B[0m: __init__() missing 1 required positional argument: 'reportInterval'"
     ]
    }
   ],
   "source": [
    "modeller = app.Modeller(pdb.topology, pdb.positions)\n",
    "modeller.deleteWater()\n",
    "modeller.addHydrogens(forcefield)\n",
    "pdb = modeller\n",
    "app.PDBFile.writeFile(pdb.topology, pdb.positions, open('3MXW_l_b_mod.pdb','w'))\n",
    "\n",
    "system = forcefield.createSystem(pdb.topology,\n",
    "    nonbondedMethod=app.CutoffNonPeriodic, nonbondedCutoff=1.0*unit.nanometers,\n",
    "    constraints=app.HBonds, rigidWater=True)\n",
    "integrator = mm.LangevinIntegrator(300*unit.kelvin, 1.0/unit.picoseconds,\n",
    "    2.0*unit.femtoseconds)\n",
    "integrator.setConstraintTolerance(0.00001)\n",
    "\n",
    "platform = mm.Platform.getPlatformByName('CPU')\n",
    "simulation = app.Simulation(pdb.topology, system, integrator, platform)\n",
    "simulation.context.setPositions(pdb.positions)\n",
    "\n",
    "print('Minimizing...')\n",
    "simulation.minimizeEnergy()\n",
    "\n",
    "simulation.context.setVelocitiesToTemperature(300*unit.kelvin)\n",
    "simulation.reporters.append(app.PDBReporter('3MXW_l_b_min_edit.pdb'))"
   ],
   "metadata": {
    "collapsed": false,
    "pycharm": {
     "name": "#%%\n"
    }
   }
  }
 ],
 "metadata": {
  "kernelspec": {
   "display_name": "Python 3",
   "language": "python",
   "name": "python3"
  },
  "language_info": {
   "codemirror_mode": {
    "name": "ipython",
    "version": 2
   },
   "file_extension": ".py",
   "mimetype": "text/x-python",
   "name": "python",
   "nbconvert_exporter": "python",
   "pygments_lexer": "ipython2",
   "version": "2.7.6"
  }
 },
 "nbformat": 4,
 "nbformat_minor": 0
}